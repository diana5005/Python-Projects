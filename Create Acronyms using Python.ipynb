{
 "cells": [
  {
   "cell_type": "markdown",
   "metadata": {},
   "source": [
    "Acronyms: An acronym is a short form of a word created by long words or phrases such as NLP for natural language processing"
   ]
  },
  {
   "cell_type": "code",
   "execution_count": 1,
   "metadata": {},
   "outputs": [
    {
     "name": "stdout",
     "output_type": "stream",
     "text": [
      "Enter your Phrases :\n",
      "Natural language processing\n",
      "The required acronym is : NLP\n"
     ]
    }
   ],
   "source": [
    "user_input = input(\"Enter your Phrases :\\n\")\n",
    "words = user_input.split()\n",
    "acronym = \"\"\n",
    "\n",
    "for item in words:\n",
    "    acronym = acronym+(item[0].upper())\n",
    "print(\"The required acronym is : {}\".format(acronym))"
   ]
  },
  {
   "cell_type": "code",
   "execution_count": null,
   "metadata": {},
   "outputs": [],
   "source": []
  }
 ],
 "metadata": {
  "kernelspec": {
   "display_name": "Python 3",
   "language": "python",
   "name": "python3"
  },
  "language_info": {
   "codemirror_mode": {
    "name": "ipython",
    "version": 3
   },
   "file_extension": ".py",
   "mimetype": "text/x-python",
   "name": "python",
   "nbconvert_exporter": "python",
   "pygments_lexer": "ipython3",
   "version": "3.8.3"
  }
 },
 "nbformat": 4,
 "nbformat_minor": 4
}
